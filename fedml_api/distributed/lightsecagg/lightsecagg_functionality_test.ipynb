{
 "cells": [
  {
   "cell_type": "code",
   "execution_count": 2,
   "metadata": {},
   "outputs": [],
   "source": [
    "import numpy as np\n",
    "from utils import *\n",
    "from mpc_function import *"
   ]
  },
  {
   "cell_type": "markdown",
   "metadata": {},
   "source": [
    "# 1.  Check the functionality of:\n",
    "## 1.1. transform_tensor_to_finite & transform_finite_to_tensor"
   ]
  },
  {
   "cell_type": "code",
   "execution_count": 35,
   "metadata": {},
   "outputs": [
    {
     "name": "stdout",
     "output_type": "stream",
     "text": [
      "dimensions=[4, 2, 4, 2], total_dimension=12\n"
     ]
    },
    {
     "data": {
      "text/plain": [
       "<matplotlib.legend.Legend at 0x1aab5746610>"
      ]
     },
     "execution_count": 35,
     "metadata": {},
     "output_type": "execute_result"
    },
    {
     "data": {
      "image/png": "[encoded data removed]",
      "text/plain": [
       "<Figure size 432x288 with 1 Axes>"
      ]
     },
     "metadata": {
      "needs_background": "light"
     },
     "output_type": "display_data"
    }
   ],
   "source": [
    "import torch\n",
    "from torch import nn\n",
    "import torch.nn.functional as F\n",
    "import matplotlib.pyplot as plt\n",
    "\n",
    "import copy\n",
    "\n",
    "from utils import model_dimension\n",
    "\n",
    "class MLP(nn.Module):\n",
    "    def __init__(self, dim_in, dim_hidden, dim_out):\n",
    "        super(MLP, self).__init__()\n",
    "        self.layer_input = nn.Linear(dim_in, dim_hidden)\n",
    "        self.relu = nn.ReLU()\n",
    "        self.dropout = nn.Dropout()\n",
    "        self.layer_hidden = nn.Linear(dim_hidden, dim_out)\n",
    "\n",
    "    def forward(self, x):\n",
    "        x = x.view(-1, x.shape[1]*x.shape[-2]*x.shape[-1])\n",
    "        x = self.layer_input(x)\n",
    "        x = self.dropout(x)\n",
    "        x = self.relu(x)\n",
    "        x = self.layer_hidden(x)\n",
    "        return x\n",
    "\n",
    "prime_number = 2 ** 30 - 35\n",
    "q_bit = 5\n",
    "\n",
    "NN = MLP(2,2,2)\n",
    "\n",
    "dimensions, total_dimension = model_dimension(NN.state_dict())\n",
    "print(f\"dimensions={dimensions}, total_dimension={total_dimension}\")\n",
    "\n",
    "tmp_weights = NN.state_dict()\n",
    "\n",
    "tmp_tensor_ff = transform_tensor_to_finite(copy.deepcopy(tmp_weights), p=prime_number, q_bits=q_bit)\n",
    "\n",
    "tmp_tensor_real = transform_finite_to_tensor(copy.deepcopy(tmp_tensor_ff), p=prime_number, q_bits=q_bit)\n",
    "\n",
    "\n",
    "plt.plot(tmp_weights['layer_input.weight'][0],label='original')\n",
    "plt.plot(tmp_tensor_real['layer_input.weight'][0], label='converted back')\n",
    "plt.legend()\n",
    "\n",
    "\n"
   ]
  },
  {
   "cell_type": "markdown",
   "metadata": {},
   "source": [
    "## 1.2. Encoding / Masking / Decoding"
   ]
  },
  {
   "cell_type": "markdown",
   "metadata": {},
   "source": [
    "### 1.2.1 Generate models"
   ]
  },
  {
   "cell_type": "code",
   "execution_count": 67,
   "metadata": {},
   "outputs": [
    {
     "name": "stdout",
     "output_type": "stream",
     "text": [
      "The autoreload extension is already loaded. To reload it, use:\n",
      "  %reload_ext autoreload\n",
      "OrderedDict([('layer_input.weight', array([[1073741784, 1073741744],\n",
      "       [1073741750, 1073741783]], dtype=int64)), ('layer_input.bias', array([1073741764,          0], dtype=int64)), ('layer_hidden.weight', array([[1073741769, 1073741755],\n",
      "       [        10,          1]], dtype=int64)), ('layer_hidden.bias', array([1073741778, 1073741761], dtype=int64))])\n"
     ]
    }
   ],
   "source": [
    "%load_ext autoreload\n",
    "%autoreload 2\n",
    "\n",
    "from utils import model_dimension\n",
    "from mpc_function import aggregate_models_in_finite\n",
    "\n",
    "N = 4\n",
    "U = 2\n",
    "T = 0\n",
    "p = prime_number\n",
    "\n",
    "d = total_dimension\n",
    "\n",
    "w_locals_FF = []\n",
    "for i in range(N):\n",
    "    NN = MLP(2,2,2)\n",
    "\n",
    "    tmp_weights = NN.state_dict()\n",
    "\n",
    "    tmp_tensor_ff = transform_tensor_to_finite(copy.deepcopy(tmp_weights), p=prime_number, q_bits=q_bit)\n",
    "\n",
    "    w_locals_FF.append(copy.deepcopy(tmp_tensor_ff))\n",
    "\n",
    "w_sum = aggregate_models_in_finite(w_locals_FF, p)\n",
    "\n",
    "print(w_sum)"
   ]
  },
  {
   "cell_type": "markdown",
   "metadata": {},
   "source": [
    "### 1.2.2. Offline - Encoding the masks"
   ]
  },
  {
   "cell_type": "code",
   "execution_count": 104,
   "metadata": {},
   "outputs": [
    {
     "name": "stdout",
     "output_type": "stream",
     "text": [
      "@mask_encoding, LCC_in=[[680331467 680331467 680331467 680331467 680331467 680331467]\n",
      " [ 80426342  80426342  80426342  80426342  80426342  80426342]]\n",
      "@mask_encoding, encoded_mask_set=[[ 110863522  110863522  110863522  110863522  110863522  110863522]\n",
      " [ 584700186  584700186  584700186  584700186  584700186  584700186]\n",
      " [1058536850 1058536850 1058536850 1058536850 1058536850 1058536850]\n",
      " [ 458631725  458631725  458631725  458631725  458631725  458631725]]\n",
      "@mask_encoding, LCC_in=[[620178032 620178032 620178032 620178032 620178032 620178032]\n",
      " [641176901 641176901 641176901 641176901 641176901 641176901]]\n",
      "@mask_encoding, encoded_mask_set=[[452187080 452187080 452187080 452187080 452187080 452187080]\n",
      " [473185949 473185949 473185949 473185949 473185949 473185949]\n",
      " [494184818 494184818 494184818 494184818 494184818 494184818]\n",
      " [515183687 515183687 515183687 515183687 515183687 515183687]]\n",
      "@mask_encoding, LCC_in=[[85398354 85398354 85398354 85398354 85398354 85398354]\n",
      " [84264901 84264901 84264901 84264901 84264901 84264901]]\n",
      "@mask_encoding, encoded_mask_set=[[94465978 94465978 94465978 94465978 94465978 94465978]\n",
      " [93332525 93332525 93332525 93332525 93332525 93332525]\n",
      " [92199072 92199072 92199072 92199072 92199072 92199072]\n",
      " [91065619 91065619 91065619 91065619 91065619 91065619]]\n",
      "@mask_encoding, LCC_in=[[718538417 718538417 718538417 718538417 718538417 718538417]\n",
      " [131213918 131213918 131213918 131213918 131213918 131213918]]\n",
      "@mask_encoding, encoded_mask_set=[[  48425464   48425464   48425464   48425464   48425464   48425464]\n",
      " [ 534842754  534842754  534842754  534842754  534842754  534842754]\n",
      " [1021260044 1021260044 1021260044 1021260044 1021260044 1021260044]\n",
      " [ 433935545  433935545  433935545  433935545  433935545  433935545]]\n"
     ]
    }
   ],
   "source": [
    "d_encoded = d // (U-T)\n",
    "\n",
    "local_mask_buffer   = np.zeros((N, d)).astype('int64')\n",
    "\n",
    "encoded_mask_buffer = np.zeros((N, N, d_encoded)).astype('int64')\n",
    "\n",
    "for i in range(N):\n",
    "    tmp = np.random.randint(p, size=(2)).astype('int64')\n",
    "    tmp1 = tmp[0] * np.ones((d_encoded,1)).astype('int64')\n",
    "    tmp2 = tmp[1] * np.ones((d_encoded,1)).astype('int64')\n",
    "    local_mask = np.concatenate([tmp1, tmp2], axis=0)\n",
    "    # local_mask = np.mod(local_mask,p)\n",
    "    # local_mask = np.random.randint(p, size=(d, 1)).astype('int64')\n",
    "    \n",
    "    local_mask_buffer[i,:] = local_mask[:,0]\n",
    "\n",
    "\n",
    "    encoded_mask_set = mask_encoding(d, N, U, T, p, local_mask)\n",
    "\n",
    "    for j in range(N):\n",
    "        encoded_mask_buffer[j,i,:] = encoded_mask_set[j,:]\n",
    "\n",
    "    # print(np.shape(local_mask), np.shape(encoded_mask_set))"
   ]
  },
  {
   "cell_type": "markdown",
   "metadata": {},
   "source": [
    "### 1.2.3. Masking the local model"
   ]
  },
  {
   "cell_type": "code",
   "execution_count": 106,
   "metadata": {},
   "outputs": [
    {
     "name": "stdout",
     "output_type": "stream",
     "text": [
      "[226767710 226767710 226767710 226767710 226767710 226767710 721603243\n",
      " 721603243 721603243 721603243 721603243 721603243]\n",
      "1073741789\n"
     ]
    }
   ],
   "source": [
    "from mpc_function import model_masking\n",
    "\n",
    "U = 2\n",
    "U_set = np.array([0,1])\n",
    "\n",
    "maked_models = []\n",
    "local_masks_sum     = np.zeros((d,)).astype('int64')\n",
    "\n",
    "for i in U_set:\n",
    "    maked_model = model_masking(w_locals_FF[i], dimensions, np.reshape(local_mask_buffer[i], (d,1)), p)\n",
    "    maked_models.append(maked_model)   \n",
    "\n",
    "    local_masks_sum = np.mod(local_masks_sum + local_mask_buffer[i], p)     \n",
    "\n",
    "masked_model_sum = aggregate_models_in_finite(maked_models, p)\n",
    "\n",
    "\n",
    "print((local_masks_sum))\n",
    "print(p)\n",
    "# print(encoded_mask_buffer)"
   ]
  },
  {
   "cell_type": "markdown",
   "metadata": {},
   "source": [
    "### 1.2.4. Reconstructing the aggregate of masks"
   ]
  },
  {
   "cell_type": "code",
   "execution_count": 108,
   "metadata": {},
   "outputs": [
    {
     "name": "stdout",
     "output_type": "stream",
     "text": [
      "(12, 1)\n",
      "[[226767710]\n",
      " [226767710]\n",
      " [226767710]\n",
      " [226767710]\n",
      " [226767710]\n",
      " [226767710]\n",
      " [721603243]\n",
      " [721603243]\n",
      " [721603243]\n",
      " [721603243]\n",
      " [721603243]\n",
      " [721603243]]\n"
     ]
    }
   ],
   "source": [
    "aggregate_encoded_masks = np.zeros((N,d_encoded),dtype='int64')\n",
    "\n",
    "# for i in range(N):    \n",
    "aggregate_encoded_masks = np.sum(encoded_mask_buffer[:,U_set,:], axis=1)\n",
    "aggregate_encoded_masks = np.mod(aggregate_encoded_masks, p)\n",
    "\n",
    "\n",
    "alpha_s = np.array(range(N)) + 2\n",
    "beta_s = np.array(range(U)) + 10\n",
    "\n",
    "eval_points = alpha_s[U_set]\n",
    "aggregate_mask = LCC_decoding_with_points(aggregate_encoded_masks[U_set], eval_points, beta_s, p)\n",
    "aggregate_mask = np.reshape(aggregate_mask, (U * (d // (U - T)), 1))\n",
    "aggregate_mask = aggregate_mask[0:d]\n",
    "\n",
    "print(np.shape(aggregate_mask))\n",
    "print(aggregate_mask)"
   ]
  },
  {
   "cell_type": "code",
   "execution_count": null,
   "metadata": {},
   "outputs": [],
   "source": []
  }
 ],
 "metadata": {
  "interpreter": {
   "hash": "efefa9e311156f6661d51b12496b26a3746a295b4437d47ebf903bd3e9b2436c"
  },
  "kernelspec": {
   "display_name": "Python 3.8.11 64-bit ('env_py38': conda)",
   "name": "python3"
  },
  "language_info": {
   "codemirror_mode": {
    "name": "ipython",
    "version": 3
   },
   "file_extension": ".py",
   "mimetype": "text/x-python",
   "name": "python",
   "nbconvert_exporter": "python",
   "pygments_lexer": "ipython3",
   "version": "3.8.11"
  },
  "orig_nbformat": 4
 },
 "nbformat": 4,
 "nbformat_minor": 2
}
